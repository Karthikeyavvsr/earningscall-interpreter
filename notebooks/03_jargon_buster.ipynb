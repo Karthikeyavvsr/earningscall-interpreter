{
  "nbformat": 4,
  "nbformat_minor": 0,
  "metadata": {
    "colab": {
      "provenance": []
    },
    "kernelspec": {
      "name": "python3",
      "display_name": "Python 3"
    },
    "language_info": {
      "name": "python"
    }
  },
  "cells": [
    {
      "cell_type": "code",
      "source": [
        "from google.colab import files\n",
        "\n",
        "# Upload the glossary file\n",
        "uploaded = files.upload()  # Upload glossary/finance_terms.json\n"
      ],
      "metadata": {
        "colab": {
          "base_uri": "https://localhost:8080/",
          "height": 74
        },
        "id": "QVjFyka_Zad8",
        "outputId": "c52c5784-3dc0-4a12-b72d-26c89064f8ea"
      },
      "execution_count": 4,
      "outputs": [
        {
          "output_type": "display_data",
          "data": {
            "text/plain": [
              "<IPython.core.display.HTML object>"
            ],
            "text/html": [
              "\n",
              "     <input type=\"file\" id=\"files-355a3777-4b8e-4dd2-a422-eab73c414300\" name=\"files[]\" multiple disabled\n",
              "        style=\"border:none\" />\n",
              "     <output id=\"result-355a3777-4b8e-4dd2-a422-eab73c414300\">\n",
              "      Upload widget is only available when the cell has been executed in the\n",
              "      current browser session. Please rerun this cell to enable.\n",
              "      </output>\n",
              "      <script>// Copyright 2017 Google LLC\n",
              "//\n",
              "// Licensed under the Apache License, Version 2.0 (the \"License\");\n",
              "// you may not use this file except in compliance with the License.\n",
              "// You may obtain a copy of the License at\n",
              "//\n",
              "//      http://www.apache.org/licenses/LICENSE-2.0\n",
              "//\n",
              "// Unless required by applicable law or agreed to in writing, software\n",
              "// distributed under the License is distributed on an \"AS IS\" BASIS,\n",
              "// WITHOUT WARRANTIES OR CONDITIONS OF ANY KIND, either express or implied.\n",
              "// See the License for the specific language governing permissions and\n",
              "// limitations under the License.\n",
              "\n",
              "/**\n",
              " * @fileoverview Helpers for google.colab Python module.\n",
              " */\n",
              "(function(scope) {\n",
              "function span(text, styleAttributes = {}) {\n",
              "  const element = document.createElement('span');\n",
              "  element.textContent = text;\n",
              "  for (const key of Object.keys(styleAttributes)) {\n",
              "    element.style[key] = styleAttributes[key];\n",
              "  }\n",
              "  return element;\n",
              "}\n",
              "\n",
              "// Max number of bytes which will be uploaded at a time.\n",
              "const MAX_PAYLOAD_SIZE = 100 * 1024;\n",
              "\n",
              "function _uploadFiles(inputId, outputId) {\n",
              "  const steps = uploadFilesStep(inputId, outputId);\n",
              "  const outputElement = document.getElementById(outputId);\n",
              "  // Cache steps on the outputElement to make it available for the next call\n",
              "  // to uploadFilesContinue from Python.\n",
              "  outputElement.steps = steps;\n",
              "\n",
              "  return _uploadFilesContinue(outputId);\n",
              "}\n",
              "\n",
              "// This is roughly an async generator (not supported in the browser yet),\n",
              "// where there are multiple asynchronous steps and the Python side is going\n",
              "// to poll for completion of each step.\n",
              "// This uses a Promise to block the python side on completion of each step,\n",
              "// then passes the result of the previous step as the input to the next step.\n",
              "function _uploadFilesContinue(outputId) {\n",
              "  const outputElement = document.getElementById(outputId);\n",
              "  const steps = outputElement.steps;\n",
              "\n",
              "  const next = steps.next(outputElement.lastPromiseValue);\n",
              "  return Promise.resolve(next.value.promise).then((value) => {\n",
              "    // Cache the last promise value to make it available to the next\n",
              "    // step of the generator.\n",
              "    outputElement.lastPromiseValue = value;\n",
              "    return next.value.response;\n",
              "  });\n",
              "}\n",
              "\n",
              "/**\n",
              " * Generator function which is called between each async step of the upload\n",
              " * process.\n",
              " * @param {string} inputId Element ID of the input file picker element.\n",
              " * @param {string} outputId Element ID of the output display.\n",
              " * @return {!Iterable<!Object>} Iterable of next steps.\n",
              " */\n",
              "function* uploadFilesStep(inputId, outputId) {\n",
              "  const inputElement = document.getElementById(inputId);\n",
              "  inputElement.disabled = false;\n",
              "\n",
              "  const outputElement = document.getElementById(outputId);\n",
              "  outputElement.innerHTML = '';\n",
              "\n",
              "  const pickedPromise = new Promise((resolve) => {\n",
              "    inputElement.addEventListener('change', (e) => {\n",
              "      resolve(e.target.files);\n",
              "    });\n",
              "  });\n",
              "\n",
              "  const cancel = document.createElement('button');\n",
              "  inputElement.parentElement.appendChild(cancel);\n",
              "  cancel.textContent = 'Cancel upload';\n",
              "  const cancelPromise = new Promise((resolve) => {\n",
              "    cancel.onclick = () => {\n",
              "      resolve(null);\n",
              "    };\n",
              "  });\n",
              "\n",
              "  // Wait for the user to pick the files.\n",
              "  const files = yield {\n",
              "    promise: Promise.race([pickedPromise, cancelPromise]),\n",
              "    response: {\n",
              "      action: 'starting',\n",
              "    }\n",
              "  };\n",
              "\n",
              "  cancel.remove();\n",
              "\n",
              "  // Disable the input element since further picks are not allowed.\n",
              "  inputElement.disabled = true;\n",
              "\n",
              "  if (!files) {\n",
              "    return {\n",
              "      response: {\n",
              "        action: 'complete',\n",
              "      }\n",
              "    };\n",
              "  }\n",
              "\n",
              "  for (const file of files) {\n",
              "    const li = document.createElement('li');\n",
              "    li.append(span(file.name, {fontWeight: 'bold'}));\n",
              "    li.append(span(\n",
              "        `(${file.type || 'n/a'}) - ${file.size} bytes, ` +\n",
              "        `last modified: ${\n",
              "            file.lastModifiedDate ? file.lastModifiedDate.toLocaleDateString() :\n",
              "                                    'n/a'} - `));\n",
              "    const percent = span('0% done');\n",
              "    li.appendChild(percent);\n",
              "\n",
              "    outputElement.appendChild(li);\n",
              "\n",
              "    const fileDataPromise = new Promise((resolve) => {\n",
              "      const reader = new FileReader();\n",
              "      reader.onload = (e) => {\n",
              "        resolve(e.target.result);\n",
              "      };\n",
              "      reader.readAsArrayBuffer(file);\n",
              "    });\n",
              "    // Wait for the data to be ready.\n",
              "    let fileData = yield {\n",
              "      promise: fileDataPromise,\n",
              "      response: {\n",
              "        action: 'continue',\n",
              "      }\n",
              "    };\n",
              "\n",
              "    // Use a chunked sending to avoid message size limits. See b/62115660.\n",
              "    let position = 0;\n",
              "    do {\n",
              "      const length = Math.min(fileData.byteLength - position, MAX_PAYLOAD_SIZE);\n",
              "      const chunk = new Uint8Array(fileData, position, length);\n",
              "      position += length;\n",
              "\n",
              "      const base64 = btoa(String.fromCharCode.apply(null, chunk));\n",
              "      yield {\n",
              "        response: {\n",
              "          action: 'append',\n",
              "          file: file.name,\n",
              "          data: base64,\n",
              "        },\n",
              "      };\n",
              "\n",
              "      let percentDone = fileData.byteLength === 0 ?\n",
              "          100 :\n",
              "          Math.round((position / fileData.byteLength) * 100);\n",
              "      percent.textContent = `${percentDone}% done`;\n",
              "\n",
              "    } while (position < fileData.byteLength);\n",
              "  }\n",
              "\n",
              "  // All done.\n",
              "  yield {\n",
              "    response: {\n",
              "      action: 'complete',\n",
              "    }\n",
              "  };\n",
              "}\n",
              "\n",
              "scope.google = scope.google || {};\n",
              "scope.google.colab = scope.google.colab || {};\n",
              "scope.google.colab._files = {\n",
              "  _uploadFiles,\n",
              "  _uploadFilesContinue,\n",
              "};\n",
              "})(self);\n",
              "</script> "
            ]
          },
          "metadata": {}
        },
        {
          "output_type": "stream",
          "name": "stdout",
          "text": [
            "Saving finance_terms.json to finance_terms.json\n"
          ]
        }
      ]
    },
    {
      "cell_type": "code",
      "source": [
        "import json\n",
        "\n",
        "with open(\"finance_terms.json\") as f:\n",
        "    glossary = json.load(f)\n"
      ],
      "metadata": {
        "id": "5Kbewc0DZmW3"
      },
      "execution_count": 5,
      "outputs": []
    },
    {
      "cell_type": "code",
      "execution_count": 1,
      "metadata": {
        "id": "qg9m7W22ZBn7"
      },
      "outputs": [],
      "source": [
        "# 📚 Load transcript (paste from Whisper output)\n",
        "transcript_text = \"\"\"\n",
        "Good morning. My name is Sammy and I'll be your conference operator today. At this time, I would like to welcome everyone to the Roots, Fourth Quarter and Fiscal Year 24, Learning as Conference School. All lines have been placed on mute to prevent any background noise. After the speakers are marked, there will be a question and an answer session. If you'd like to ask a question during this time, simply press star then follow it by one on your phone keypad. If you'd like to withdraw your question, please press star, follow by two on your keypad. On the call today, we have Megan Roach, President and Chief Executive Officer and Leon Woot, Chief Financial Officer. At Fourth Quarter Conference School begins, the company will actually remind listeners that the call, including the Q&A portion, may include forward-looking statements concerning its current and future plans, expectations and intentions, results, level of activities, performance, goals or achievements, or any other future events or developments. This information is based on managed reasonable assumptions and beliefs in light of information currently available to Roots and listeners at a caution not to place undue reliance on such information. Each forward-looking statement is subject to risk and uncertainties that could cause actual results to differ materially from those projected. The company refers listeners to its Fourth Quarter Management discussion and analysis dated 8.8 2025 and or its annual information forum for a summary of the significant assumptions underlying forward-looking statements and certain risks and facts that could affect the company's future performance and ability to deliver on these statements. Roots take and it takes no obligation to update or revise any forward-looking statements made on this call. The Fourth Quarter earnings release, the related financial statements and the management's discussion and analysis are available on ZR as well as on the Roots Investor Relations website at www.investors.roots.com. A supplementary presentation, the Q42024 conference is also available on the Roots Investor Relations site. Finally, please note that all figures discussed on this conference call are on Canadian dollars unless otherwise dated. Thank you, you may begin your conference. Thank you, operator. Good morning, everyone and thank you for joining our Q42024 or its call. On the call today, I will briefly review our Fourth Quarter financial results, which are on the Roots Investor Relations site. Thank you, operator. Good morning, everyone and thank you for joining our Q42024 earnings call. On the call today, I will briefly review our Fourth Quarter financial results, which are on the Roots Investor Relations site. We will cover in more detail and then discuss their operational highlights. Our strong key stream momentum continued into the Fourth Quarter, our largest quarter of the year. Total Q4 sales reached 110.8 million, compared to sales of 108.2 million last year, representing an increase of 2.4% year-to-year. Excluding the 53rd week in 2020-3, Q4, Q424 sales grew 4.5% year-to-year. This sales growth was driven by exceptional performance in our direct-to-consumer segment, where comparable sales increased by 7.5%, marking our highest comparable sales group since 2017. Numerous initiatives improved our direct-to-consumer sales. From the enablement of AI-driven inventory allocation, which improved in-store product options for customers, to enhance marketing investments, which drove higher engagement and made roots top of mind for consumers during the holidays. Beyond our strong sales growth, growth margin expanded 270 basis points, reflecting our ability to optimize product costs and reduce discounting, leading to an adjusted e to the death of the quarter of 25.3 million, or 22.8% of sales, increasing 9.1% from 23.2 million, or 21.4% of sales last year. The close-the-year, we also continue stressing our balance sheet, with net debt ending at 7.3 million, a 56.7% reduction compared to 2023, and a substantial reduction, marked peak of over 96 million in 2019. I will now turn to our fourth quarter operational highlights that drove our positive year-to-year performers. During the quarter, we successfully executed several incremental marketing initiatives, as we focus on elevating our brand messaging and increasing our engagement with customers during our largest sales-driending quarter of the year. Our holiday campaign delivered strong results. The 360-degree approach of our anything-roost, everything-quality campaign, reaffirmed roots as the ultimate gifting destination for the thought-from-gifter. By focusing on emotional engagement and holiday memories, we've landed in nostalgia with a modern trust to create onable and engaging content. We amplified our programming with an experiential activation that immersed customers in the campaign and drove strong social media content creation, resulting in yourvere improvements in earned media and organic social impressions. Working with Google and our media partners, we also focus on optimizing the messaging and channels where our campaigns, products, and brand-new appeared, which included branching out in this streaming and other relevant platforms. Our weekly collaboration products and marketing efforts resulted in significant brand-feet with a very positive customer response. One of our main products and unique cardigans sold out numerous times by letting customers demand for a differentiated product partnership. Our improved focus on brand ambassadors also played a more significant role in our key for performance than in previous years, enabling us to speak to more consumers across multiple geographies with varied interests. And finally, the first roots external tempo collection, which launched the Q4, marked our latest efforts to reconnect with root heritage in athletic and sports partnerships. The clients received notable attention with our maiden Canada, hand-crafted-looded jackets, becoming a focus for media and consumers. In 2025, roots will continue to invest in our heavily marketing to increase the brand's top of mind awareness amongst consumers. Our investments will continue to focus on additional advertising, brand-investor partnerships, and increase awareness during our season low periods of relevance to the brand. From product perspective, we experienced another quarter of strong growth in our key collections, as our iconic favors and means to resonate well with consumers during after the holiday period. We achieved another quarter of our bus growth in our adult active work collection, with sales rising more than 40% year-over-year and continuing to become a more meaningful proportion of our sales. This category will continue to be an area of focus to the brand, and as we look to diversify our product offering, this is one of the ways we can complement our core products. For core fleet selections, inclusive Cooper-Clease, One, and Cloud also drove positive sales growth in the fourth quarter. The ability to maintain strong, faux-priced sales needs that important collections also contributed to improve growth margins. Within the quarter, we diminished unsurductive inventory as we leverage our AI-driven allocation system to reduce dormant inventory at our stores. Our visual merchandising teams also proved the flow of our stores and established engaging holiday windows throughout the season. This quarter, we took important steps to enhance our operational efficiency, our customer insights, and our customer experience across our on-the-channel touch points, with the usage of our AI inventory management and replenishment systems, the data warehouse we established early in 2024, and the implementation of Green Root. At the end of the quarter, we successfully completed the initial implementation of our AI tools focused on our online channel. By using a leading digital experience platform, we plan to enhance our e-commerce capabilities at Ruth, by delivering a more personalized and data-driven shopping experience to improve customer engagement and conversion rates. By leveraging AI-powered search, merchandising, and content personalization, we are optimizing product discovery and tailoring interactions to meet our customers preferences. This investment reinforces our commitment to digital innovation in long-term growth. As mentioned previously, by leveraging AI for advanced inventory optimization, we are better aligning product availability's real-term demand, reducing access stock, and minimizing loss sales. This improved agility allows us to respond more effectively to stricken consumer preferences while driving efficiency and margin improvements. The data warehouse has helped enable the implementation of these AI tools, while consolidating important customer and sales data to provide a more comprehensive view of shopping behaviors and trends. With these enhanced insights, we are refining our personalization strategies, improving demand forecasting, and strengthening customer relationships, ultimately supporting more informed data-driven decision-making across the business. This corridor, we also continue investing in the evolution of our retail footprint to strategic store-ware innovation, ensuring that our physical locations reflect the premium quality and heritage of the Ruth's friends. These upgrades are designed to enhance the insert experience, creating a more inviting, modern, and immersive shopping environment that aligns with our customer's expectations. From a fresh store layout and improved lighting to the integration of digital touch points, these renovations are aimed at strengthening brand engagement and driving increased foot traffic. In the fourth corridor, we also opened our niche in the store and category, and in 2025, customers will see enhanced Ruth experiences on raw-finsory and downtime Vancouver, bond, mails, and grayer Toronto area, and our store and the Mont Traumont Village, amongst other smaller store improvements. We continue to see benefit from optimizing our store footprint and investing in these improved store experiences. Through the combination of an increased brand presence, innovation, and our key product franchises, and a continued focus on creating positive customer touch points, we are excited for the long-term growth potential Ruth. I will now turn the call over to Leon Wu, our chief financial officer. Thank you, Megan. Thank you, good morning, everyone. I'll start by covering our fourth corridor results, followed by a summary of our full year 2024 performance. As a reminder, there was an extra week in our last year's fiscal fourth quarter, such that Q4 2023 comprised of 14 weeks and full year 2023 results comprised of 53 weeks. Unless otherwise noted, references to the prior year results will be the respective 14 week and 53 week periods. We're meaningful, I will highlight the financial impact of last year's extra week. Starting with sales, Q4 2024 sales were 110.8 million, an increase of 2.4 percent as compared to 108.2 million in Q4 2023. Excluding the 2.2 million of DTC sales generated during the extra week in the prior year, total sales increased by 4.5 percent. DTC sales were 101.2 million in the quarter, an increase of 3.6 percent as compared to 97.8 million last year, or 6 percent excluding the extra week. Our DTC comparable same-store sales grew 7.5 percent during the quarter and was positive across both channels. These 20 DTC sales performance during our largest quarter reflects the product, marketing, and operational functions working in Unison. Our sales were driven by continued strength in our core fleece collections, including our iconic Cooper fleece and minimal logo cluff fleece, along with our seasonal fleece collections. Our active collection also had another quarter of double-digit growth. The captivating holiday brand campaign and experiential activations drove increased traffic to roots. While our AI driven store replenishment and store scheduling capabilities, along with store investments to enhance our customer experience, improved conversion. Partner and other sales were 9.6 million in Q4 2024. Now 8.6 percent as compared to 10.5 billion last year. The segment is primarily driven by wholesale sales to our operating partner in Taiwan. While underlying sales to customers in Taiwan were up year-to-year, we recognized a temporary reduction in wholesale orders as they optimized their inventory levels. We expected the client to continue into the first half of 2025 but believe in the expertise of our local operating partner and the long-term trajectory of the market. The decline in Taiwan wholesale orders was partially offset by strong performance in our other wholesale and licensing business and double-digit growth in our China Timo e-commerce sales. Looking back at our full fiscal year, total sales were 262.9 million in 2024. 0.1 percent as compared to 262.7 million last year. Or an increase of 0.9 percent excluding the extra fiscal week in 2023. Total sales in the first half of 2024 declined 6.3 percent. Negatively impacted by an inventory deficit in our core fleet collections, driven by stronger than anticipated demand in the prior holiday season. This was addressed by the start of the second half of the year, which represents a much larger portion of annual sales. Fails in the second half of 2024 grew 3.5 percent or 4.8 percent excluding the extra week last year. We are pleased with the accelerating sales momentum achieved through compelling brand messaging initiatives to improve our omnichannel customer experience and curated product assurance. Total gross profit was 68 million in Q4 2024, 7.2 percent compared to 63.4 million last year. The growth in gross profit dollars looked to provide an increase in DTC sales and the increase in the gross profit margin across both segments. Total gross profit margin was 61.3 percent in Q4 2024, 270 basis points compared to Q4 2023. TTC gross margin was 62.4 percent in Decorder, 250 basis points from 59.9 percent last year. The TTC gross margin expansion was driven by 280 basis points improvement in our product margin through improvement to costing and promotional disciplines, partially offset by the unfavorable forwarding exchange impact on US dollar purchases. We expected build on the upside to our product margin for costing opportunities into next year. However, we expect these to be offset by the stronger US dollar relative to the Canadian dollar. Total gross profit for the full year was 157.1 million and increased of 3.1 percent from last year. S-Shnaq centers were 45.2 million in Q4 2024 up 9.6 percent from 41.2 million last year. Of the increase, 2.2 million pertained to non-cash accounting lease modification gains last year and 0.7 million pertained to the unfavorable revaluation of cash settled instruments under our share-based compensation plan. Excluding these two items, S-Shnaq increased by 1 million or 2.3 percent and was driven by higher variable selling cost and marketing incentives. Flow year S-Shnaq centers were 143.5 million up 2.3 percent versus last year. In Q4 2024, our accounting net loss was 21.7 million as compared to net income of 14.6 million in Q4 2023. This declined with entirely driven by a non-cash impairment on intangible assets. Based on conservative perspectives on the global economy due to the current market dynamics, the impairment of intangible assets accounting adjustment has calculated through our comparison of the estimated recoverable value of our business against its caring value. We do not expect the impairment charge to have any impact on our future operations at long-term growth potential. Nor affect our liquidity, cash flows, or compliance with any financial and operating covenants. Excluding the impairment, net income would have totaled 15 million up 2.9 percent versus last year. This equates to 37 cents per share, improving 2.8 percent compared to Q4 2023. Adjusted EBITDA was 25.3 million, increasing 9.1 percent compared to 23.2 million in Q4 2023. On a foyer basis, our net loss was 33.4 million as compared to 1.8 million net income lashes. Excluding the impact of the impairment, our 2024 net income would have been 3.3 million or 8 cents per share, improving from 1.8 million or 5 cents per share last year. Full year adjusted EBITDA was 21.3 million, increasing from 19.9 million in 2023. We are pleased to see the year-over-year scaling of our profit margins, both in Q4 and on a foyer basis. Now turning to our balance sheet and cash flow metrics. At the end of 2024, our inventory was 41 million. Up 13.4 percent has compared to 36.2 million at the end of 2023. The increase in inventory was primarily driven by an increase in core style units on hand, trusting the shortages in this area ending 2023. And higher in transit inventory to support our spring 2025 assortment. In addition to the improved inventory availability, we are ending the year in a cleaner inventory composition to last year, where a greater mix of on-hand units pertain to the current season or year-round style. During Q4 2024, we generated 39.4 million of free cash flow, an increase of 9.3 percent as compared to 36.1 million in Q4 2023. The increase in free cash flow was driven by higher sales and lower cash taxes paid during the quarter. Net debt was 7.3 million at the end of 2024 down 56.7 percent as compared to 17 million at the end of 2023. I have represent our lowest ever net debt. Our net net rate ratio measured as net debt over 12 months adjusted EBITO was under 0.4 times. In a separate release today, we announced our intention to commence our share repurchase program where normal course is short bid. So the repurchase of up to 1.3 million of our common shares, which represents 10 percent of our public flow. The decision to commence the NCIB reflects our strong cash flow and balance sheet position and our confidence in the long-term growth potential and value of routes. I will now pass it back to Megan for closing remarks. Thanks, Leon. As we look forward to 2025, we remain focused on executing our strategic conditions when navigating a balding retail landscape. Well, early in the first quarter, we saw our Q4 momentum continuing to Q1, including low double digit direct to consumer comparable sales growth throughout the first eight weeks. Through continued investments in digital innovation, operational efficiencies and brand engagement, we are prohibitioning routes for long-term resilience and growth. While we remain mindful of external market dynamics, we have limited sales exposure to the U.S. market. Operator, you may now open the call for questions, so we'll cover in more detail and then discuss our operational highlights. Thank you very much. It's a fast question. Page per star followed by one on your telephone keypad now. If you change your mind, page per star followed by two. My friends, whilst you're question, please ensure your device is unmuted locally. We now have a question from Andrew Lopez and TD Karen. Please go ahead. Your line is open. Thanks, morning, and thanks for the question. Just going to start with the consumer here. Please think and realize it's a seasonally weak quarter. What have you seen in terms of consumer trends, including any negative impact from tariffs on the tariffs, sorry, on traffic and basket, and then just declining consumer confidence, and on the positive, any bike maintenance teams that you see you take it hold? Yeah, absolutely. Good morning, Andrew. From our perspective, we have limited exposure to the tariffs. We have a relatively small business in the U.S. market, and so we're not seeing any significant impact on our business thus far as it relates to that specifically. From a consumer perspective, obviously, we are looking to see what happens in Canada over the longer term. From our perspective, we're mainly obviously focused on the consumer confidence over the long term, as well as looking at effects. But what I can say is that eight weeks into the first quarter, we sell low double-digit growth from a Comp Fills perspective. So that's far we are seeing solid performance and our business. It relates to the Canadian by-candidate movement. We are incredibly proud to be Canadian brand, and so from that perspective, we do hope that consumers continue to look for Canadian brands out there and continue to support them as all of us are supporting the economy more broadly. We particularly have seen an increase in searches for Canada across in our website, but more fundamentally, what we saw was momentum in the Q4 period continuing into Q1. So it's very difficult for us to tell specifically what any upliftment might be from by Canada as opposed to our business to continue to turn well out of the portfolio quarter. Great. And then just maybe following up on that. So you're just saying low impact tariffs in terms of exposure to USD sourcing. What does that look like? And what issues do you have in place, stop set, or preserve margin, loss from those exposures? Yes, Andrew. Good morning. So on the US dollar perspective, we do source a significant amount of our products in US dollars, but also alongside local manufacturing in Canada as well as with local vendors. So we do engage in a hedging program to lock in on the US dollar about 12 months in advance, which gives us some visibility into that cost and allows us to manage it appropriately. So overall, it is a more volatile warning exchange market, but I feel great about our position relative to the predictability, given that we have a large amount of hedges in place. Great. Just a couple more for me. I recall you had an ambitious marketing issues upon last call looking forward to fiscal 25. So does that look at fine tunes either to the upside or downside, given today's uncertain outlook? I think it's really important from a consumer perspective to continue to be top of line. So from our perspective, we are continuing to invest behind things like our brand ambassador program, making sure that we're thinking about our advertising channels more robustly. So these are on the fourth quarter. We extended into things like streaming. We have had more outdoor advertising. We had some events and activities for our consumers. So we're going to continue to invest behind those things. Obviously, when we look at our business, we think about the different markets we're in, and we move our money around to be focused on the markets where we see the most potential, and we're going to continue to do that this year. Maybe the last one. How are you approaching your inventory to the fall winter seasons? Same thing with the economic uncertainty and consumer uncertainty. I just had you anticipate your automated replacement decision will work there? Yes, good question. I mean, I would have first reiterated Megan's comment, where in the first eight weeks we are still seeing both double-digit growth. So it is encouraging and giving some optimism in terms of the long-term growth, especially for the rest of the year. That being said, we are mindful of what potentially, or we're mindful of monitoring how the consumer reacts over time. The kitchen about our holiday and fall-in-holiday buys is that it is heavily comprised of core favorites that we will bring back year-round. So it's something that we don't have a lot of seasonal inventory that would quote, quote, quote, bad at the end of the season. So we're confident that the inventory will support the growth as it arrives, and also we won't present with inventory health challenges in the long run. Yeah, I guess I would recall you saying maybe that you were looking into Q1. You guys are in pretty good inventory position in terms of non-current. Great, I guess I was right there, but yes, yes, we have a great composition of inventory at the end of the year going to Q1. So I guess they've been saying that that's working pretty well so far. Maybe we'll have to see if we can get the inventory. Yes, we'll have to see if we can get the inventory. I'll just sneak one in here. I'll just sneak one in here. Yeah, if you're fine, or you're automated refinishment, it's managing well. Go ahead. Okay. Yeah, I just want to ask, like what leverage are you guys targeting for this point five, but say not for your NCIB? So we continue to manage our netbed appropriately, and each year we continue to deal with the developer. Ultimately with the NCIB given the current arched dynamics, we solve some great opportunities to buy back shares and return value to the shareholders. So we will continue to assess our capital management based on how the market evolves and based on how the performance of the business trends. But ultimately we thought that the NCIB was a great opportunity upside. That's great. Congratulations on the S-Rumquard. Thank you. As a reminder, to ask a question, please press star for the above one on your telephone keybed. We currently have no further questions, so hand back to Megan for some closing remarks. Thank you, operator. Thank you everyone for joining us today for our strong force quarter results release. We look forward to speaking to you in the first quarter. This concludes today's call. Thank you very much for joining. You may know this connection lines.\n",
        "\"\"\""
      ]
    },
    {
      "cell_type": "code",
      "source": [
        "# 📥 Load glossary file\n",
        "import json\n",
        "\n",
        "with open('/content/finance_terms.json') as f:\n",
        "    glossary = json.load(f)\n",
        "\n",
        "# 🔍 Search and extract matches\n",
        "matches = {}\n",
        "\n",
        "for term in glossary:\n",
        "    if term.lower() in transcript_text.lower():\n",
        "        matches[term] = glossary[term]\n",
        "\n",
        "# 🧾 Display matches and definitions\n",
        "if matches:\n",
        "    print(\"📘 Glossary Matches Found:\\n\")\n",
        "    for term, definition in matches.items():\n",
        "        print(f\"🔹 {term}:\\n   {definition}\\n\")\n",
        "else:\n",
        "    print(\"❌ No glossary terms found in transcript.\")"
      ],
      "metadata": {
        "colab": {
          "base_uri": "https://localhost:8080/"
        },
        "id": "DyVh1GogZMhM",
        "outputId": "6e49a30a-a5aa-4be9-93a1-ea76c3fd2fc8"
      },
      "execution_count": 6,
      "outputs": [
        {
          "output_type": "stream",
          "name": "stdout",
          "text": [
            "📘 Glossary Matches Found:\n",
            "\n",
            "🔹 EBITDA:\n",
            "   Earnings Before Interest, Taxes, Depreciation, and Amortization. A measure of a company's profitability.\n",
            "\n",
            "🔹 free cash flow:\n",
            "   The cash a company generates after capital expenditures, used to evaluate financial flexibility.\n",
            "\n"
          ]
        }
      ]
    },
    {
      "cell_type": "code",
      "source": [],
      "metadata": {
        "id": "WG9e8X-mZONC"
      },
      "execution_count": null,
      "outputs": []
    }
  ]
}